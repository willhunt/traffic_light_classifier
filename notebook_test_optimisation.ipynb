{
 "nbformat": 4,
 "nbformat_minor": 2,
 "metadata": {
  "language_info": {
   "name": "python",
   "codemirror_mode": {
    "name": "ipython",
    "version": 3
   },
   "version": "3.7.5"
  },
  "orig_nbformat": 2,
  "file_extension": ".py",
  "mimetype": "text/x-python",
  "name": "python",
  "npconvert_exporter": "python",
  "pygments_lexer": "ipython3",
  "version": 3
 },
 "cells": [
  {
   "cell_type": "markdown",
   "execution_count": null,
   "metadata": {},
   "outputs": [],
   "source": [
    "# Test out optimisation features"
   ]
  },
  {
   "cell_type": "markdown",
   "execution_count": null,
   "metadata": {},
   "outputs": [],
   "source": [
    "## Imports\n",
    "### Set imports relative to this file\n",
    "If notebook is not in curent working directory path must be set"
   ]
  },
  {
   "cell_type": "code",
   "execution_count": 1,
   "metadata": {},
   "outputs": [],
   "source": [
    "import os\n",
    "import sys\n",
    "# Get current working directory\n",
    "cwd = os.path.abspath(os.path.join('..'))\n",
    "# print(\"Is this the module path?\", cwd)\n",
    "MODULE_NAME = 'traffic_light_classifier'\n",
    "# Check if current working directory is likely correct\n",
    "cwd_folder = os.path.basename(os.path.normpath(cwd))\n",
    "if cwd_folder == MODULE_NAME:\n",
    "    module_path = cwd\n",
    "else:\n",
    "    # This must be set by the user\n",
    "    module_path = \"C:\\\\Users\\\\willhunt88\\\\OneDrive\\\\Documents\\\\Programming\\\\Udacity Intro to Self Driving Cars\\\\Project 6 - Traffic Light Classifier\\\\traffic_light_classifier\"\n",
    "\n",
    "# Add module to system path\n",
    "if module_path not in sys.path:\n",
    "    sys.path.append(module_path)"
   ]
  },
  {
   "cell_type": "code",
   "execution_count": 2,
   "metadata": {},
   "outputs": [],
   "source": [
    "import helpers\n",
    "from test_classifier import Tests\n",
    "from traffic_light_classifier import TrafficLightClassifier\n",
    "%matplotlib inline"
   ]
  },
  {
   "cell_type": "markdown",
   "execution_count": null,
   "metadata": {},
   "outputs": [],
   "source": [
    "## Load stuff"
   ]
  },
  {
   "cell_type": "code",
   "execution_count": 3,
   "metadata": {},
   "outputs": [
    {
     "name": "stdout",
     "output_type": "stream",
     "text": "Loaded 1187 images from training set\nLoaded 297 images from test set\n"
    }
   ],
   "source": [
    "IMAGE_DIR_TRAINING = \"traffic_light_images/training/\"\n",
    "IMAGE_DIR_TEST = \"traffic_light_images/test/\"\n",
    "dirs = [IMAGE_DIR_TRAINING, IMAGE_DIR_TEST]\n",
    "keys = ['training', 'test']\n",
    "\n",
    "IMAGE_LIST = {}\n",
    "for directory, key in zip(dirs, keys):\n",
    "    path_images = os.path.join(module_path, directory)\n",
    "    IMAGE_LIST[key] = helpers.load_dataset(path_images)\n",
    "    n_images = len(IMAGE_LIST[key])\n",
    "    if n_images == 0:\n",
    "        print(\"No images loaded from {0} set\".format(key))\n",
    "    else:\n",
    "        print(\"Loaded {0} images from {1} set\".format(n_images, key))"
   ]
  },
  {
   "cell_type": "code",
   "execution_count": 4,
   "metadata": {},
   "outputs": [],
   "source": [
    "tlc = TrafficLightClassifier(IMAGE_LIST['test'])"
   ]
  },
  {
   "cell_type": "code",
   "execution_count": 5,
   "metadata": {},
   "outputs": [
    {
     "name": "stdout",
     "output_type": "stream",
     "text": "Default accuracy (@scale=0.1) = 89.9 %\nNew accuracy (@scale=0.5) = 92.9 %\n"
    }
   ],
   "source": [
    "print('Default accuracy (@scale=0.1) = {:.1f} %'.format(tlc.get_accuracy() * 100))\n",
    "tlc.masksize_pdf_values['scale'] = 0.5\n",
    "tlc.classify_images()\n",
    "print('New accuracy (@scale=0.5) = {:.1f} %'.format(tlc.get_accuracy() * 100))"
   ]
  },
  {
   "cell_type": "code",
   "execution_count": 6,
   "metadata": {},
   "outputs": [],
   "source": [
    "# tlc.train_classifier(IMAGE_LIST['training'])"
   ]
  },
  {
   "cell_type": "code",
   "execution_count": null,
   "metadata": {},
   "outputs": [],
   "source": []
  }
 ]
}