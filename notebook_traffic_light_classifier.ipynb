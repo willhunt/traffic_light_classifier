{
 "cells": [
  {
   "cell_type": "markdown",
   "metadata": {},
   "outputs": [],
   "source": [
    "# Traffic Light Classifier\n",
    "## Class demonstration notebook"
   ]
  },
  {
   "cell_type": "markdown",
   "metadata": {},
   "outputs": [],
   "source": [
    "## Imports\n",
    "### Set imports relative to this file\n",
    "If notebook is not in curent working directory path must be set"
   ]
  },
  {
   "cell_type": "code",
   "execution_count": 1,
   "metadata": {},
   "outputs": [],
   "source": [
    "import os\n",
    "import sys\n",
    "# Get current working directory\n",
    "cwd = os.path.abspath(os.path.join('..'))\n",
    "# print(\"Is this the module path?\", cwd)\n",
    "MODULE_NAME = 'traffic_light_classifier'\n",
    "# Check if current working directory is likely correct\n",
    "cwd_folder = os.path.basename(os.path.normpath(cwd))\n",
    "if cwd_folder == MODULE_NAME:\n",
    "    module_path = cwd\n",
    "else:\n",
    "    # This must be set by the user\n",
    "    module_path = \"C:\\\\Users\\\\willhunt88\\\\OneDrive\\\\Documents\\\\Programming\\\\Udacity Intro to Self Driving Cars\\\\Project 6 - Traffic Light Classifier\\\\traffic_light_classifier\"\n",
    "\n",
    "# Add module to system path\n",
    "if module_path not in sys.path:\n",
    "    sys.path.append(module_path)\n",
    "\n"
   ]
  },
  {
   "cell_type": "code",
   "execution_count": 2,
   "metadata": {},
   "outputs": [],
   "source": [
    "import helpers\n",
    "from test_classifier import Tests\n",
    "from traffic_light_classifier import TrafficLightClassifier\n",
    "%matplotlib inline"
   ]
  },
  {
   "cell_type": "markdown",
   "metadata": {},
   "outputs": [],
   "source": [
    "### Load training set to view\n",
    "Import directories defined\n",
    "Images loaded and checked"
   ]
  },
  {
   "cell_type": "code",
   "execution_count": 3,
   "metadata": {},
   "outputs": [
    {
     "name": "stdout",
     "output_type": "stream",
     "text": "Loaded 1187 images from training set\nLoaded 297 images from test set\n"
    }
   ],
   "source": [
    "IMAGE_DIR_TRAINING = \"traffic_light_images/training/\"\n",
    "IMAGE_DIR_TEST = \"traffic_light_images/test/\"\n",
    "dirs = [IMAGE_DIR_TRAINING, IMAGE_DIR_TEST]\n",
    "keys = ['training', 'test']\n",
    "\n",
    "IMAGE_LIST = {}\n",
    "for directory, key in zip(dirs, keys):\n",
    "    path_images = os.path.join(module_path, directory)\n",
    "    IMAGE_LIST[key] = helpers.load_dataset(path_images)\n",
    "    n_images = len(IMAGE_LIST[key])\n",
    "    if n_images == 0:\n",
    "        print(\"No images loaded from {0} set\".format(key))\n",
    "    else:\n",
    "        print(\"Loaded {0} images from {1} set\".format(n_images, key))"
   ]
  },
  {
   "cell_type": "markdown",
   "metadata": {},
   "outputs": [],
   "source": [
    "### Initialise classifier class"
   ]
  },
  {
   "cell_type": "code",
   "execution_count": 4,
   "metadata": {},
   "outputs": [],
   "source": [
    "traffic_light_classifier = TrafficLightClassifier(IMAGE_LIST['training'])"
   ]
  },
  {
   "cell_type": "markdown",
   "metadata": {},
   "outputs": [],
   "source": [
    "### Inspect images visually\n",
    "Plot a random sample of images"
   ]
  },
  {
   "cell_type": "code",
   "execution_count": 5,
   "metadata": {},
   "outputs": [],
   "source": [
    "traffic_light_classifier.visualize_image_sample(n_plots=20, randomize=True)"
   ]
  },
  {
   "cell_type": "code",
   "execution_count": 0,
   "metadata": {},
   "outputs": [],
   "source": [
    "image_index = 0\n",
    "traffic_light_classifier.visualize_image(image_index)"
   ]
  },
  {
   "cell_type": "markdown",
   "execution_count": null,
   "metadata": {},
   "outputs": [],
   "source": [
    "Take a look at standardized version of image"
   ]
  },
  {
   "cell_type": "code",
   "execution_count": 0,
   "metadata": {},
   "outputs": [],
   "source": [
    "traffic_light_classifier.visualize_image(image_index, list_name='standardized')"
   ]
  },
  {
   "cell_type": "markdown",
   "metadata": {},
   "outputs": [],
   "source": [
    "Take a look at masked version"
   ]
  },
  {
   "cell_type": "code",
   "execution_count": 0,
   "metadata": {},
   "outputs": [],
   "source": [
    "traffic_light_classifier.visualize_masks(image_index)"
   ]
  },
  {
   "cell_type": "markdown",
   "execution_count": null,
   "metadata": {},
   "outputs": [],
   "source": [
    "### Look at misclassfied images"
   ]
  },
  {
   "cell_type": "code",
   "execution_count": 0,
   "metadata": {},
   "outputs": [],
   "source": [
    "# Can rerun classification in case changes have been made\n",
    "traffic_light_classifier.classify_images()\n",
    "n_misclassified = traffic_light_classifier.get_num_misclassifed()\n",
    "print('Number of misclassifed images =', n_misclassified)\n",
    "print('Accuracy =', traffic_light_classifier.get_accuracy())"
   ]
  },
  {
   "cell_type": "code",
   "execution_count": 0,
   "metadata": {},
   "outputs": [],
   "source": [
    "n_plots = min(n_misclassified, 10)\n",
    "traffic_light_classifier.visualize_image_sample(list_name='misclassified', randomize=False, n_plots=n_plots)"
   ]
  },
  {
   "cell_type": "markdown",
   "execution_count": null,
   "metadata": {},
   "outputs": [],
   "source": [
    "## Use test images"
   ]
  },
  {
   "cell_type": "code",
   "execution_count": 0,
   "metadata": {},
   "outputs": [],
   "source": [
    "tlc_test = TrafficLightClassifier(IMAGE_LIST['test'])\n",
    "n_misclassified = tlc_test.get_num_misclassifed()\n",
    "print('Number of misclassifed images =', n_misclassified)\n",
    "print('Accuracy =', tlc_test.get_accuracy())"
   ]
  },
  {
   "cell_type": "code",
   "execution_count": 0,
   "metadata": {},
   "outputs": [],
   "source": [
    "n_plots = min(n_misclassified, 10)\n",
    "tlc_test.visualize_image_sample(list_name='misclassified', randomize=False, n_plots=n_plots)"
   ]
  },
  {
   "cell_type": "code",
   "execution_count": 0,
   "metadata": {},
   "outputs": [],
   "source": [
    "tlc_test.visualize_masks(9, list_name='misclassified')"
   ]
  },
  {
   "cell_type": "code",
   "execution_count": null,
   "metadata": {},
   "outputs": [],
   "source": []
  }
 ],
 "metadata": {
  "kernelspec": {
   "display_name": "Python 3",
   "language": "python",
   "name": "python3"
  },
  "language_info": {
   "codemirror_mode": {
    "name": "ipython",
    "version": 3
   },
   "file_extension": ".py",
   "mimetype": "text/x-python",
   "name": "python",
   "nbconvert_exporter": "python",
   "pygments_lexer": "ipython3",
   "version": "3.7.5"
  }
 },
 "nbformat": 4,
 "nbformat_minor": 2
}